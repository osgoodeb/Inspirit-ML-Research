{
 "cells": [
  {
   "cell_type": "code",
   "execution_count": 3,
   "outputs": [
    {
     "name": "stdout",
     "output_type": "stream",
     "text": [
      "Hello World\n"
     ]
    }
   ],
   "source": [
    "print(\"Hello World\")"
   ],
   "metadata": {
    "collapsed": false
   }
  },
  {
   "cell_type": "code",
   "execution_count": 1,
   "outputs": [
    {
     "ename": "ModuleNotFoundError",
     "evalue": "No module named 'numpy'",
     "output_type": "error",
     "traceback": [
      "\u001B[1;31m---------------------------------------------------------------------------\u001B[0m",
      "\u001B[1;31mModuleNotFoundError\u001B[0m                       Traceback (most recent call last)",
      "Cell \u001B[1;32mIn[1], line 1\u001B[0m\n\u001B[1;32m----> 1\u001B[0m \u001B[38;5;28;01mimport\u001B[39;00m \u001B[38;5;21;01mnumpy\u001B[39;00m \u001B[38;5;28;01mas\u001B[39;00m \u001B[38;5;21;01mnp\u001B[39;00m\n\u001B[0;32m      2\u001B[0m \u001B[38;5;28;01mimport\u001B[39;00m \u001B[38;5;21;01mpandas\u001B[39;00m \u001B[38;5;28;01mas\u001B[39;00m \u001B[38;5;21;01mpd\u001B[39;00m\n\u001B[0;32m      3\u001B[0m \u001B[38;5;28;01mimport\u001B[39;00m \u001B[38;5;21;01mmatplotlib\u001B[39;00m\u001B[38;5;21;01m.\u001B[39;00m\u001B[38;5;21;01mpyplot\u001B[39;00m \u001B[38;5;28;01mas\u001B[39;00m \u001B[38;5;21;01mplt\u001B[39;00m\n",
      "\u001B[1;31mModuleNotFoundError\u001B[0m: No module named 'numpy'"
     ]
    }
   ],
   "source": [
    "import pytorch\n",
    "import numpy as np\n",
    "import pandas as pd\n",
    "import matplotlib.pyplot as plt\n",
    "from sklearn.model_selection import cross_val_predict\n",
    "import imageio.v2 as imageio\n",
    "import os\n",
    "import random as rand\n",
    "from sklearn.pipeline import make_pipeline, Pipeline\n",
    "from sklearn.preprocessing import StandardScaler\n",
    "from sklearn.metrics import confusion_matrix\n",
    "from sklearn.ensemble import RandomForestClassifier\n",
    "from sklearn.model_selection import GridSearchCV"
   ],
   "metadata": {
    "collapsed": false
   }
  },
  {
   "cell_type": "code",
   "execution_count": 2,
   "outputs": [],
   "source": [
    "# Importing images and assigning labels\n",
    "fruits = []\n",
    "fruit_labels = []\n",
    "fruit_FS_labels = []\n",
    "# Bananas\n",
    "bananas = []\n",
    "banana_labels = []\n",
    "for filename in os.listdir('FRUIT-16K/S_Banana'):\n",
    "    if filename != \".ipynb_checkpoints\":\n",
    "        full_filepath = os.path.join('FRUIT-16K/S_Banana', filename)\n",
    "        bananas.append(imageio.imread(full_filepath))\n",
    "        banana_labels.append(\"spoiled\")\n",
    "        fruits.append(imageio.imread(full_filepath))\n",
    "        fruit_labels.append(\"banana\")\n",
    "        fruit_FS_labels.append(\"spoiled banana\")\n",
    "for filename in os.listdir('FRUIT-16K/F_Banana'):\n",
    "    if filename != \".ipynb_checkpoints\":\n",
    "        full_filepath = os.path.join('FRUIT-16K/F_Banana', filename)\n",
    "        bananas.append(imageio.imread(full_filepath))\n",
    "        banana_labels.append(\"fresh\")\n",
    "        fruits.append(imageio.imread(full_filepath))\n",
    "        fruit_labels.append(\"banana\")\n",
    "        fruit_FS_labels.append(\"fresh banana\")\n",
    "# Mangoes\n",
    "mangoes = []\n",
    "mango_labels = []\n",
    "for filename in os.listdir('FRUIT-16K/S_Mango'):\n",
    "    if filename != \".ipynb_checkpoints\":\n",
    "        full_filepath = os.path.join('FRUIT-16K/S_Mango', filename)\n",
    "        mangoes.append(imageio.imread(full_filepath))\n",
    "        mango_labels.append(\"spoiled\")\n",
    "        fruits.append(imageio.imread(full_filepath))\n",
    "        fruit_labels.append(\"mango\")\n",
    "        fruit_FS_labels.append(\"spoiled mango\")\n",
    "for filename in os.listdir('FRUIT-16K/F_Mango'):\n",
    "    if filename != \".ipynb_checkpoints\":\n",
    "        full_filepath = os.path.join('FRUIT-16K/F_Mango', filename)\n",
    "        mangoes.append(imageio.imread(full_filepath))\n",
    "        mango_labels.append(\"fresh\")\n",
    "        fruits.append(imageio.imread(full_filepath))\n",
    "        fruit_labels.append(\"mango\")\n",
    "        fruit_FS_labels.append(\"fresh mango\")\n",
    "# Strawberries\n",
    "strawberries = []\n",
    "strawberry_labels = []\n",
    "for filename in os.listdir('FRUIT-16K/S_Strawberry'):\n",
    "    if filename != \".ipynb_checkpoints\":\n",
    "        full_filepath = os.path.join('FRUIT-16K/S_Strawberry', filename)\n",
    "        strawberries.append(imageio.imread(full_filepath))\n",
    "        strawberry_labels.append(\"spoiled\")\n",
    "        fruits.append(imageio.imread(full_filepath))\n",
    "        fruit_labels.append(\"strawberry\")\n",
    "        fruit_FS_labels.append(\"spoiled strawberry\")\n",
    "for filename in os.listdir('FRUIT-16K/F_Strawberry'):\n",
    "    if filename != \".ipynb_checkpoints\":\n",
    "        full_filepath = os.path.join('FRUIT-16K/F_Strawberry', filename)\n",
    "        strawberries.append(imageio.imread(full_filepath))\n",
    "        strawberry_labels.append(\"fresh\")\n",
    "        fruits.append(imageio.imread(full_filepath))\n",
    "        fruit_labels.append(\"strawberry\")\n",
    "        fruit_FS_labels.append(\"fresh strawberry\")\n",
    "# Tomatoes\n",
    "tomatoes = []\n",
    "tomato_labels = []\n",
    "for filename in os.listdir('FRUIT-16K/S_Tomato'):\n",
    "    if filename != \".ipynb_checkpoints\":\n",
    "        full_filepath = os.path.join('FRUIT-16K/S_Tomato', filename)\n",
    "        tomatoes.append(imageio.imread(full_filepath))\n",
    "        tomato_labels.append(\"spoiled\")\n",
    "        fruits.append(imageio.imread(full_filepath))\n",
    "        fruit_labels.append(\"strawberry\")\n",
    "        fruit_FS_labels.append(\"spoiled tomato\")\n",
    "for filename in os.listdir('FRUIT-16K/F_Tomato'):\n",
    "    if filename != \".ipynb_checkpoints\":\n",
    "        full_filepath = os.path.join('FRUIT-16K/F_Tomato', filename)\n",
    "        tomatoes.append(imageio.imread(full_filepath))\n",
    "        tomato_labels.append(\"fresh\")\n",
    "        fruits.append(imageio.imread(full_filepath))\n",
    "        fruit_labels.append(\"strawberry\")\n",
    "        fruit_FS_labels.append(\"fresh tomato\")\n",
    "# Lemons\n",
    "lemons = []\n",
    "lemon_labels = []\n",
    "for filename in os.listdir('FRUIT-16K/S_Lemon'):\n",
    "    if filename != \".ipynb_checkpoints\":\n",
    "        full_filepath = os.path.join('FRUIT-16K/S_Lemon', filename)\n",
    "        lemons.append(imageio.imread(full_filepath))\n",
    "        lemon_labels.append(\"spoiled\")\n",
    "        fruits.append(imageio.imread(full_filepath))\n",
    "        fruit_labels.append(\"lemon\")\n",
    "        fruit_FS_labels.append(\"spoiled lemon\")\n",
    "for filename in os.listdir('FRUIT-16K/F_Lemon'):\n",
    "    if filename != \".ipynb_checkpoints\":\n",
    "        full_filepath = os.path.join('FRUIT-16K/F_Lemon', filename)\n",
    "        lemons.append(imageio.imread(full_filepath))\n",
    "        lemon_labels.append(\"fresh\")\n",
    "        fruits.append(imageio.imread(full_filepath))\n",
    "        fruit_labels.append(\"lemon\")\n",
    "        fruit_FS_labels.append(\"fresh lemon\")"
   ],
   "metadata": {
    "collapsed": false
   }
  },
  {
   "cell_type": "code",
   "execution_count": 3,
   "outputs": [],
   "source": [
    "# Reshaping data\n",
    "bananas = np.array(bananas).reshape(2000, 224 * 224 * 3)\n",
    "mangoes = np.array(mangoes).reshape(2000, 224 * 224 * 3)\n",
    "strawberries = np.array(strawberries).reshape(2000, 224 * 224 * 3)\n",
    "tomatoes = np.array(tomatoes).reshape(2000, 224 * 224 * 3)\n",
    "lemons = np.array(lemons).reshape(2000, 224 * 224 * 3)\n",
    "fruits = np.array(fruits).reshape(2000 * 5, 224 * 224 * 3)"
   ],
   "metadata": {
    "collapsed": false
   }
  },
  {
   "cell_type": "code",
   "execution_count": null,
   "outputs": [],
   "source": [
    "# Train Test Split"
   ],
   "metadata": {
    "collapsed": false
   }
  },
  {
   "cell_type": "code",
   "execution_count": 4,
   "outputs": [],
   "source": [
    "# Hyperparameter tuning fruit classifier\n",
    "base_classifier = RandomForestClassifier()\n",
    "parameters = {\"randomforestclassifier__max_depth\": [10, 15, 20], \"randomforestclassifier__n_estimators\": [100, 200, 300]}\n",
    "fruit_pipe = make_pipeline(StandardScaler(), base_classifier)\n",
    "fruit_search = GridSearchCV(fruit_pipe, parameters, cv = 5, n_jobs = -2, pre_dispatch = 2).fit(fruits, fruit_labels)\n",
    "pd.DataFrame(fruit_search.cv_results_).to_csv('Fruit Classifier Tuning.csv')"
   ],
   "metadata": {
    "collapsed": false
   }
  },
  {
   "cell_type": "code",
   "execution_count": 5,
   "outputs": [],
   "source": [
    "# Hyperparameter tuning fresh/spoiled classifiers\n",
    "# Bananas\n",
    "banana_pipe = make_pipeline(StandardScaler().fit(bananas), base_classifier)\n",
    "banana_search = GridSearchCV(banana_pipe, parameters, cv = 5, n_jobs = -2, pre_dispatch = 2).fit(bananas, banana_labels)\n",
    "pd.DataFrame(banana_search.cv_results_).to_csv('Banana Classifier Tuning.csv')\n",
    "# Mangoes\n",
    "mango_pipe = make_pipeline(StandardScaler().fit(mangoes), base_classifier)\n",
    "mango_search = GridSearchCV(mango_pipe, parameters, cv = 5, n_jobs = -2, pre_dispatch = 2).fit(mangoes, mango_labels)\n",
    "pd.DataFrame(mango_search.cv_results_).to_csv('Mango Classifier Tuning.csv')\n",
    "# Strawberries\n",
    "strawberry_pipe = make_pipeline(StandardScaler().fit(strawberries), base_classifier)\n",
    "strawberry_search = GridSearchCV(strawberry_pipe, parameters, cv = 5, n_jobs = -2, pre_dispatch = 2).fit(strawberries, strawberry_labels)\n",
    "pd.DataFrame(strawberry_search.cv_results_).to_csv('Strawberry Classifier Tuning.csv')\n",
    "# Tomatoes\n",
    "tomato_pipe = make_pipeline(StandardScaler().fit(tomatoes), base_classifier)\n",
    "tomato_search = GridSearchCV(tomato_pipe, parameters, cv = 5, n_jobs = -2, pre_dispatch = 2).fit(tomatoes, tomato_labels)\n",
    "pd.DataFrame(tomato_search.cv_results_).to_csv('Tomato Classifier Tuning.csv')\n",
    "# Lemons\n",
    "lemon_pipe = make_pipeline(StandardScaler().fit(lemons), base_classifier)\n",
    "lemon_search = GridSearchCV(lemon_pipe, parameters, cv = 5, n_jobs = -2, pre_dispatch = 2).fit(lemons, lemon_labels)\n",
    "pd.DataFrame(lemon_search.cv_results_).to_csv('Lemon Classifier Tuning.csv')"
   ],
   "metadata": {
    "collapsed": false
   }
  },
  {
   "cell_type": "code",
   "execution_count": 6,
   "outputs": [],
   "source": [
    "# Hyperparameter tuning fruit and fresh/spoiled classifier\n",
    "fruit_FS_pipe = make_pipeline(StandardScaler().fit(fruits), base_classifier)\n",
    "fruit_FS_search = GridSearchCV(fruit_FS_pipe, parameters, cv = 5, n_jobs = -2, pre_dispatch = 2).fit(fruits, fruit_FS_labels)\n",
    "pd.DataFrame(fruit_FS_search.cv_results_).to_csv('Fruit and Quality Classifier Tuning.csv')"
   ],
   "metadata": {
    "collapsed": false
   }
  },
  {
   "cell_type": "code",
   "execution_count": 10,
   "outputs": [
    {
     "data": {
      "text/plain": "'Fruit CM:'"
     },
     "metadata": {},
     "output_type": "display_data"
    },
    {
     "data": {
      "text/plain": "      0     1     2     3\n0  1339    11   192   458\n1    48  1587   174   191\n2    47   126  1003   824\n3   165    34   789  3012",
      "text/html": "<div>\n<style scoped>\n    .dataframe tbody tr th:only-of-type {\n        vertical-align: middle;\n    }\n\n    .dataframe tbody tr th {\n        vertical-align: top;\n    }\n\n    .dataframe thead th {\n        text-align: right;\n    }\n</style>\n<table border=\"1\" class=\"dataframe\">\n  <thead>\n    <tr style=\"text-align: right;\">\n      <th></th>\n      <th>0</th>\n      <th>1</th>\n      <th>2</th>\n      <th>3</th>\n    </tr>\n  </thead>\n  <tbody>\n    <tr>\n      <th>0</th>\n      <td>1339</td>\n      <td>11</td>\n      <td>192</td>\n      <td>458</td>\n    </tr>\n    <tr>\n      <th>1</th>\n      <td>48</td>\n      <td>1587</td>\n      <td>174</td>\n      <td>191</td>\n    </tr>\n    <tr>\n      <th>2</th>\n      <td>47</td>\n      <td>126</td>\n      <td>1003</td>\n      <td>824</td>\n    </tr>\n    <tr>\n      <th>3</th>\n      <td>165</td>\n      <td>34</td>\n      <td>789</td>\n      <td>3012</td>\n    </tr>\n  </tbody>\n</table>\n</div>"
     },
     "metadata": {},
     "output_type": "display_data"
    }
   ],
   "source": [
    "# Implementing fruit classifier\n",
    "correct_predictions = []\n",
    "correct_prediction_labels = []\n",
    "fruit_predictions = cross_val_predict(fruit_search.best_estimator_, fruits, fruit_labels, cv = 5, n_jobs = -2, pre_dispatch = 2)\n",
    "fruit_cm = confusion_matrix(fruit_labels, fruit_predictions)\n",
    "for i, label in enumerate(fruit_labels):\n",
    "    if label == fruit_predictions[i]:\n",
    "        correct_predictions.append(fruits[i])\n",
    "        correct_prediction_labels.append(fruit_labels[i])\n",
    "display(\"Fruit CM:\", pd.DataFrame(fruit_cm))\n",
    "pd.DataFrame(fruit_cm).to_csv('Fruit Classifier Confusion Matrix.csv')"
   ],
   "metadata": {
    "collapsed": false
   }
  },
  {
   "cell_type": "code",
   "execution_count": 11,
   "outputs": [
    {
     "data": {
      "text/plain": "'Banana CM:'"
     },
     "metadata": {},
     "output_type": "display_data"
    },
    {
     "data": {
      "text/plain": "     0    1\n0  927   73\n1   68  932",
      "text/html": "<div>\n<style scoped>\n    .dataframe tbody tr th:only-of-type {\n        vertical-align: middle;\n    }\n\n    .dataframe tbody tr th {\n        vertical-align: top;\n    }\n\n    .dataframe thead th {\n        text-align: right;\n    }\n</style>\n<table border=\"1\" class=\"dataframe\">\n  <thead>\n    <tr style=\"text-align: right;\">\n      <th></th>\n      <th>0</th>\n      <th>1</th>\n    </tr>\n  </thead>\n  <tbody>\n    <tr>\n      <th>0</th>\n      <td>927</td>\n      <td>73</td>\n    </tr>\n    <tr>\n      <th>1</th>\n      <td>68</td>\n      <td>932</td>\n    </tr>\n  </tbody>\n</table>\n</div>"
     },
     "metadata": {},
     "output_type": "display_data"
    },
    {
     "data": {
      "text/plain": "'Mango CM:'"
     },
     "metadata": {},
     "output_type": "display_data"
    },
    {
     "data": {
      "text/plain": "     0    1\n0  645  355\n1  164  836",
      "text/html": "<div>\n<style scoped>\n    .dataframe tbody tr th:only-of-type {\n        vertical-align: middle;\n    }\n\n    .dataframe tbody tr th {\n        vertical-align: top;\n    }\n\n    .dataframe thead th {\n        text-align: right;\n    }\n</style>\n<table border=\"1\" class=\"dataframe\">\n  <thead>\n    <tr style=\"text-align: right;\">\n      <th></th>\n      <th>0</th>\n      <th>1</th>\n    </tr>\n  </thead>\n  <tbody>\n    <tr>\n      <th>0</th>\n      <td>645</td>\n      <td>355</td>\n    </tr>\n    <tr>\n      <th>1</th>\n      <td>164</td>\n      <td>836</td>\n    </tr>\n  </tbody>\n</table>\n</div>"
     },
     "metadata": {},
     "output_type": "display_data"
    },
    {
     "data": {
      "text/plain": "'Strawberry CM:'"
     },
     "metadata": {},
     "output_type": "display_data"
    },
    {
     "data": {
      "text/plain": "     0    1\n0  813  187\n1  366  634",
      "text/html": "<div>\n<style scoped>\n    .dataframe tbody tr th:only-of-type {\n        vertical-align: middle;\n    }\n\n    .dataframe tbody tr th {\n        vertical-align: top;\n    }\n\n    .dataframe thead th {\n        text-align: right;\n    }\n</style>\n<table border=\"1\" class=\"dataframe\">\n  <thead>\n    <tr style=\"text-align: right;\">\n      <th></th>\n      <th>0</th>\n      <th>1</th>\n    </tr>\n  </thead>\n  <tbody>\n    <tr>\n      <th>0</th>\n      <td>813</td>\n      <td>187</td>\n    </tr>\n    <tr>\n      <th>1</th>\n      <td>366</td>\n      <td>634</td>\n    </tr>\n  </tbody>\n</table>\n</div>"
     },
     "metadata": {},
     "output_type": "display_data"
    },
    {
     "data": {
      "text/plain": "'Tomato CM:'"
     },
     "metadata": {},
     "output_type": "display_data"
    },
    {
     "data": {
      "text/plain": "     0    1\n0  790  210\n1  310  690",
      "text/html": "<div>\n<style scoped>\n    .dataframe tbody tr th:only-of-type {\n        vertical-align: middle;\n    }\n\n    .dataframe tbody tr th {\n        vertical-align: top;\n    }\n\n    .dataframe thead th {\n        text-align: right;\n    }\n</style>\n<table border=\"1\" class=\"dataframe\">\n  <thead>\n    <tr style=\"text-align: right;\">\n      <th></th>\n      <th>0</th>\n      <th>1</th>\n    </tr>\n  </thead>\n  <tbody>\n    <tr>\n      <th>0</th>\n      <td>790</td>\n      <td>210</td>\n    </tr>\n    <tr>\n      <th>1</th>\n      <td>310</td>\n      <td>690</td>\n    </tr>\n  </tbody>\n</table>\n</div>"
     },
     "metadata": {},
     "output_type": "display_data"
    },
    {
     "data": {
      "text/plain": "'Lemon CM:'"
     },
     "metadata": {},
     "output_type": "display_data"
    },
    {
     "data": {
      "text/plain": "     0    1\n0  772  228\n1  123  877",
      "text/html": "<div>\n<style scoped>\n    .dataframe tbody tr th:only-of-type {\n        vertical-align: middle;\n    }\n\n    .dataframe tbody tr th {\n        vertical-align: top;\n    }\n\n    .dataframe thead th {\n        text-align: right;\n    }\n</style>\n<table border=\"1\" class=\"dataframe\">\n  <thead>\n    <tr style=\"text-align: right;\">\n      <th></th>\n      <th>0</th>\n      <th>1</th>\n    </tr>\n  </thead>\n  <tbody>\n    <tr>\n      <th>0</th>\n      <td>772</td>\n      <td>228</td>\n    </tr>\n    <tr>\n      <th>1</th>\n      <td>123</td>\n      <td>877</td>\n    </tr>\n  </tbody>\n</table>\n</div>"
     },
     "metadata": {},
     "output_type": "display_data"
    }
   ],
   "source": [
    "# Implementing fresh/spoiled classifiers\n",
    "# Bananas\n",
    "banana_predictions = cross_val_predict(banana_search.best_estimator_, bananas, banana_labels, cv = 5, n_jobs = -2, pre_dispatch = 2)\n",
    "banana_cm = confusion_matrix(banana_labels, banana_predictions)\n",
    "display(\"Banana CM:\", pd.DataFrame(banana_cm))\n",
    "pd.DataFrame(banana_cm).to_csv('Banana Classifier Confusion Matrix.csv')\n",
    "# Mangoes\n",
    "mango_predictions = cross_val_predict(mango_search.best_estimator_, mangoes, mango_labels, cv = 5, n_jobs = -2, pre_dispatch = 2)\n",
    "mango_cm = confusion_matrix(mango_labels, mango_predictions)\n",
    "display(\"Mango CM:\", pd.DataFrame(mango_cm))\n",
    "pd.DataFrame(mango_cm).to_csv('Mango Classifier Confusion Matrix.csv')\n",
    "# Strawberries\n",
    "strawberry_predictions = cross_val_predict(strawberry_search.best_estimator_, strawberries, strawberry_labels, cv = 5, n_jobs = -2, pre_dispatch = 2)\n",
    "strawberry_cm = confusion_matrix(strawberry_labels, strawberry_predictions)\n",
    "display(\"Strawberry CM:\", pd.DataFrame(strawberry_cm))\n",
    "pd.DataFrame(strawberry_cm).to_csv('Strawberry Classifier Confusion Matrix.csv')\n",
    "# Tomatoes\n",
    "tomato_predictions = cross_val_predict(tomato_search.best_estimator_, tomatoes, tomato_labels, cv = 5, n_jobs = -2, pre_dispatch = 2)\n",
    "tomato_cm = confusion_matrix(tomato_labels, tomato_predictions)\n",
    "display(\"Tomato CM:\", pd.DataFrame(tomato_cm))\n",
    "pd.DataFrame(tomato_cm).to_csv('Tomato Classifier Confusion Matrix.csv')\n",
    "# Lemons\n",
    "lemon_predictions = cross_val_predict(lemon_search.best_estimator_, lemons, lemon_labels, cv = 5, n_jobs = -2, pre_dispatch = 2)\n",
    "lemon_cm = confusion_matrix(lemon_labels, lemon_predictions)\n",
    "display(\"Lemon CM:\", pd.DataFrame(lemon_cm))\n",
    "pd.DataFrame(lemon_cm).to_csv('Lemon Classifier Confusion Matrix.csv')"
   ],
   "metadata": {
    "collapsed": false
   }
  },
  {
   "cell_type": "code",
   "execution_count": 12,
   "outputs": [
    {
     "data": {
      "text/plain": "'Fruit and F/S CM:'"
     },
     "metadata": {},
     "output_type": "display_data"
    },
    {
     "data": {
      "text/plain": "     0    1    2    3    4    5    6    7    8    9\n0  817    9    7    3   18   96    6   37    2    5\n1    0  646   25    0    2    7  229   49   22   20\n2   10   31  535   13   19    7   14  176   73  122\n3    9    4    7  640   57   53    9   31   69  121\n4   22    9   28   82  426   71   93  197   19   53\n5   64    4    0   33   19  850    6   15    5    4\n6   37  116    6    1   13    3  781   26    7   10\n7   35   55   77   29   39   17   27  652   60    9\n8   15    9   35  195   59   42    3   94  524   24\n9   18    2  179   99  148   24   12   18   21  479",
      "text/html": "<div>\n<style scoped>\n    .dataframe tbody tr th:only-of-type {\n        vertical-align: middle;\n    }\n\n    .dataframe tbody tr th {\n        vertical-align: top;\n    }\n\n    .dataframe thead th {\n        text-align: right;\n    }\n</style>\n<table border=\"1\" class=\"dataframe\">\n  <thead>\n    <tr style=\"text-align: right;\">\n      <th></th>\n      <th>0</th>\n      <th>1</th>\n      <th>2</th>\n      <th>3</th>\n      <th>4</th>\n      <th>5</th>\n      <th>6</th>\n      <th>7</th>\n      <th>8</th>\n      <th>9</th>\n    </tr>\n  </thead>\n  <tbody>\n    <tr>\n      <th>0</th>\n      <td>817</td>\n      <td>9</td>\n      <td>7</td>\n      <td>3</td>\n      <td>18</td>\n      <td>96</td>\n      <td>6</td>\n      <td>37</td>\n      <td>2</td>\n      <td>5</td>\n    </tr>\n    <tr>\n      <th>1</th>\n      <td>0</td>\n      <td>646</td>\n      <td>25</td>\n      <td>0</td>\n      <td>2</td>\n      <td>7</td>\n      <td>229</td>\n      <td>49</td>\n      <td>22</td>\n      <td>20</td>\n    </tr>\n    <tr>\n      <th>2</th>\n      <td>10</td>\n      <td>31</td>\n      <td>535</td>\n      <td>13</td>\n      <td>19</td>\n      <td>7</td>\n      <td>14</td>\n      <td>176</td>\n      <td>73</td>\n      <td>122</td>\n    </tr>\n    <tr>\n      <th>3</th>\n      <td>9</td>\n      <td>4</td>\n      <td>7</td>\n      <td>640</td>\n      <td>57</td>\n      <td>53</td>\n      <td>9</td>\n      <td>31</td>\n      <td>69</td>\n      <td>121</td>\n    </tr>\n    <tr>\n      <th>4</th>\n      <td>22</td>\n      <td>9</td>\n      <td>28</td>\n      <td>82</td>\n      <td>426</td>\n      <td>71</td>\n      <td>93</td>\n      <td>197</td>\n      <td>19</td>\n      <td>53</td>\n    </tr>\n    <tr>\n      <th>5</th>\n      <td>64</td>\n      <td>4</td>\n      <td>0</td>\n      <td>33</td>\n      <td>19</td>\n      <td>850</td>\n      <td>6</td>\n      <td>15</td>\n      <td>5</td>\n      <td>4</td>\n    </tr>\n    <tr>\n      <th>6</th>\n      <td>37</td>\n      <td>116</td>\n      <td>6</td>\n      <td>1</td>\n      <td>13</td>\n      <td>3</td>\n      <td>781</td>\n      <td>26</td>\n      <td>7</td>\n      <td>10</td>\n    </tr>\n    <tr>\n      <th>7</th>\n      <td>35</td>\n      <td>55</td>\n      <td>77</td>\n      <td>29</td>\n      <td>39</td>\n      <td>17</td>\n      <td>27</td>\n      <td>652</td>\n      <td>60</td>\n      <td>9</td>\n    </tr>\n    <tr>\n      <th>8</th>\n      <td>15</td>\n      <td>9</td>\n      <td>35</td>\n      <td>195</td>\n      <td>59</td>\n      <td>42</td>\n      <td>3</td>\n      <td>94</td>\n      <td>524</td>\n      <td>24</td>\n    </tr>\n    <tr>\n      <th>9</th>\n      <td>18</td>\n      <td>2</td>\n      <td>179</td>\n      <td>99</td>\n      <td>148</td>\n      <td>24</td>\n      <td>12</td>\n      <td>18</td>\n      <td>21</td>\n      <td>479</td>\n    </tr>\n  </tbody>\n</table>\n</div>"
     },
     "metadata": {},
     "output_type": "display_data"
    }
   ],
   "source": [
    "# Implementing fruit and fresh/spoiled classifier\n",
    "fruit_FS_predictions = cross_val_predict(fruit_FS_search.best_estimator_, fruits, fruit_FS_labels, cv = 5, n_jobs = -2, pre_dispatch = 2)\n",
    "fruit_FS_cm = confusion_matrix(fruit_FS_labels, fruit_FS_predictions)\n",
    "display(\"Fruit and F/S CM:\", pd.DataFrame(fruit_FS_cm))\n",
    "pd.DataFrame(fruit_FS_cm).to_csv('Fruit and Quality Classifier Confusion Matrix.csv')\n",
    "# 64%"
   ],
   "metadata": {
    "collapsed": false
   }
  },
  {
   "cell_type": "code",
   "execution_count": 1,
   "outputs": [
    {
     "ename": "NameError",
     "evalue": "name 'fruit_FS_search' is not defined",
     "output_type": "error",
     "traceback": [
      "\u001B[1;31m---------------------------------------------------------------------------\u001B[0m",
      "\u001B[1;31mNameError\u001B[0m                                 Traceback (most recent call last)",
      "\u001B[1;32m~\\AppData\\Local\\Temp\\ipykernel_13476\\418833987.py\u001B[0m in \u001B[0;36m<module>\u001B[1;34m\u001B[0m\n\u001B[1;32m----> 1\u001B[1;33m \u001B[0mfruit_FS_search\u001B[0m\u001B[1;33m.\u001B[0m\u001B[0mbest_estimator_\u001B[0m\u001B[1;33m.\u001B[0m\u001B[0mclasses_\u001B[0m\u001B[1;33m\u001B[0m\u001B[1;33m\u001B[0m\u001B[0m\n\u001B[0m",
      "\u001B[1;31mNameError\u001B[0m: name 'fruit_FS_search' is not defined"
     ]
    }
   ],
   "source": [
    "fruit_FS_search.best_estimator_.classes_"
   ],
   "metadata": {
    "collapsed": false
   }
  },
  {
   "cell_type": "code",
   "execution_count": 28,
   "outputs": [
    {
     "data": {
      "text/plain": "'Banana Correct CM:'"
     },
     "metadata": {},
     "output_type": "display_data"
    },
    {
     "data": {
      "text/plain": "     0     1    2     3\n0  916     0    8   415\n1    1  1422  114    50\n2   22   133  741   107\n3   94    16  103  2799",
      "text/html": "<div>\n<style scoped>\n    .dataframe tbody tr th:only-of-type {\n        vertical-align: middle;\n    }\n\n    .dataframe tbody tr th {\n        vertical-align: top;\n    }\n\n    .dataframe thead th {\n        text-align: right;\n    }\n</style>\n<table border=\"1\" class=\"dataframe\">\n  <thead>\n    <tr style=\"text-align: right;\">\n      <th></th>\n      <th>0</th>\n      <th>1</th>\n      <th>2</th>\n      <th>3</th>\n    </tr>\n  </thead>\n  <tbody>\n    <tr>\n      <th>0</th>\n      <td>916</td>\n      <td>0</td>\n      <td>8</td>\n      <td>415</td>\n    </tr>\n    <tr>\n      <th>1</th>\n      <td>1</td>\n      <td>1422</td>\n      <td>114</td>\n      <td>50</td>\n    </tr>\n    <tr>\n      <th>2</th>\n      <td>22</td>\n      <td>133</td>\n      <td>741</td>\n      <td>107</td>\n    </tr>\n    <tr>\n      <th>3</th>\n      <td>94</td>\n      <td>16</td>\n      <td>103</td>\n      <td>2799</td>\n    </tr>\n  </tbody>\n</table>\n</div>"
     },
     "metadata": {},
     "output_type": "display_data"
    },
    {
     "data": {
      "text/plain": "'Mango Correct CM:'"
     },
     "metadata": {},
     "output_type": "display_data"
    },
    {
     "data": {
      "text/plain": "     0     1    2     3\n0  935     0   10   394\n1    2  1443   97    45\n2   23   130  749   101\n3   97    17  107  2791",
      "text/html": "<div>\n<style scoped>\n    .dataframe tbody tr th:only-of-type {\n        vertical-align: middle;\n    }\n\n    .dataframe tbody tr th {\n        vertical-align: top;\n    }\n\n    .dataframe thead th {\n        text-align: right;\n    }\n</style>\n<table border=\"1\" class=\"dataframe\">\n  <thead>\n    <tr style=\"text-align: right;\">\n      <th></th>\n      <th>0</th>\n      <th>1</th>\n      <th>2</th>\n      <th>3</th>\n    </tr>\n  </thead>\n  <tbody>\n    <tr>\n      <th>0</th>\n      <td>935</td>\n      <td>0</td>\n      <td>10</td>\n      <td>394</td>\n    </tr>\n    <tr>\n      <th>1</th>\n      <td>2</td>\n      <td>1443</td>\n      <td>97</td>\n      <td>45</td>\n    </tr>\n    <tr>\n      <th>2</th>\n      <td>23</td>\n      <td>130</td>\n      <td>749</td>\n      <td>101</td>\n    </tr>\n    <tr>\n      <th>3</th>\n      <td>97</td>\n      <td>17</td>\n      <td>107</td>\n      <td>2791</td>\n    </tr>\n  </tbody>\n</table>\n</div>"
     },
     "metadata": {},
     "output_type": "display_data"
    },
    {
     "data": {
      "text/plain": "'Strawberry Correct CM:'"
     },
     "metadata": {},
     "output_type": "display_data"
    },
    {
     "data": {
      "text/plain": "     0     1    2     3\n0  924     1    8   406\n1    1  1444   94    48\n2   21   132  745   105\n3   99    16  100  2797",
      "text/html": "<div>\n<style scoped>\n    .dataframe tbody tr th:only-of-type {\n        vertical-align: middle;\n    }\n\n    .dataframe tbody tr th {\n        vertical-align: top;\n    }\n\n    .dataframe thead th {\n        text-align: right;\n    }\n</style>\n<table border=\"1\" class=\"dataframe\">\n  <thead>\n    <tr style=\"text-align: right;\">\n      <th></th>\n      <th>0</th>\n      <th>1</th>\n      <th>2</th>\n      <th>3</th>\n    </tr>\n  </thead>\n  <tbody>\n    <tr>\n      <th>0</th>\n      <td>924</td>\n      <td>1</td>\n      <td>8</td>\n      <td>406</td>\n    </tr>\n    <tr>\n      <th>1</th>\n      <td>1</td>\n      <td>1444</td>\n      <td>94</td>\n      <td>48</td>\n    </tr>\n    <tr>\n      <th>2</th>\n      <td>21</td>\n      <td>132</td>\n      <td>745</td>\n      <td>105</td>\n    </tr>\n    <tr>\n      <th>3</th>\n      <td>99</td>\n      <td>16</td>\n      <td>100</td>\n      <td>2797</td>\n    </tr>\n  </tbody>\n</table>\n</div>"
     },
     "metadata": {},
     "output_type": "display_data"
    },
    {
     "data": {
      "text/plain": "'Tomato Correct CM:'"
     },
     "metadata": {},
     "output_type": "display_data"
    },
    {
     "data": {
      "text/plain": "     0     1    2     3\n0  896     2    6   435\n1    1  1444  101    41\n2   19   128  748   108\n3   89    13  105  2805",
      "text/html": "<div>\n<style scoped>\n    .dataframe tbody tr th:only-of-type {\n        vertical-align: middle;\n    }\n\n    .dataframe tbody tr th {\n        vertical-align: top;\n    }\n\n    .dataframe thead th {\n        text-align: right;\n    }\n</style>\n<table border=\"1\" class=\"dataframe\">\n  <thead>\n    <tr style=\"text-align: right;\">\n      <th></th>\n      <th>0</th>\n      <th>1</th>\n      <th>2</th>\n      <th>3</th>\n    </tr>\n  </thead>\n  <tbody>\n    <tr>\n      <th>0</th>\n      <td>896</td>\n      <td>2</td>\n      <td>6</td>\n      <td>435</td>\n    </tr>\n    <tr>\n      <th>1</th>\n      <td>1</td>\n      <td>1444</td>\n      <td>101</td>\n      <td>41</td>\n    </tr>\n    <tr>\n      <th>2</th>\n      <td>19</td>\n      <td>128</td>\n      <td>748</td>\n      <td>108</td>\n    </tr>\n    <tr>\n      <th>3</th>\n      <td>89</td>\n      <td>13</td>\n      <td>105</td>\n      <td>2805</td>\n    </tr>\n  </tbody>\n</table>\n</div>"
     },
     "metadata": {},
     "output_type": "display_data"
    },
    {
     "data": {
      "text/plain": "'Lemon Correct CM:'"
     },
     "metadata": {},
     "output_type": "display_data"
    },
    {
     "data": {
      "text/plain": "     0     1    2     3\n0  914     0    8   417\n1    1  1436  102    48\n2   23   131  740   109\n3   92    18  104  2798",
      "text/html": "<div>\n<style scoped>\n    .dataframe tbody tr th:only-of-type {\n        vertical-align: middle;\n    }\n\n    .dataframe tbody tr th {\n        vertical-align: top;\n    }\n\n    .dataframe thead th {\n        text-align: right;\n    }\n</style>\n<table border=\"1\" class=\"dataframe\">\n  <thead>\n    <tr style=\"text-align: right;\">\n      <th></th>\n      <th>0</th>\n      <th>1</th>\n      <th>2</th>\n      <th>3</th>\n    </tr>\n  </thead>\n  <tbody>\n    <tr>\n      <th>0</th>\n      <td>914</td>\n      <td>0</td>\n      <td>8</td>\n      <td>417</td>\n    </tr>\n    <tr>\n      <th>1</th>\n      <td>1</td>\n      <td>1436</td>\n      <td>102</td>\n      <td>48</td>\n    </tr>\n    <tr>\n      <th>2</th>\n      <td>23</td>\n      <td>131</td>\n      <td>740</td>\n      <td>109</td>\n    </tr>\n    <tr>\n      <th>3</th>\n      <td>92</td>\n      <td>18</td>\n      <td>104</td>\n      <td>2798</td>\n    </tr>\n  </tbody>\n</table>\n</div>"
     },
     "metadata": {},
     "output_type": "display_data"
    }
   ],
   "source": [
    "# Implementing fresh/spoiled classifiers on correctly identified fruits\n",
    "# Bananas\n",
    "banana_correct_predictions = cross_val_predict(banana_search.best_estimator_, correct_predictions, correct_prediction_labels, cv = 5, n_jobs = -2, pre_dispatch = 2)\n",
    "banana_correct_cm = confusion_matrix(correct_prediction_labels, banana_correct_predictions)\n",
    "display(\"Banana Correct CM:\", pd.DataFrame(banana_correct_cm))\n",
    "pd.DataFrame(banana_correct_cm).to_csv('Banana Classifier on Correct Fruits Confusion Matrix.csv')\n",
    "# Mangoes\n",
    "mango_correct_predictions = cross_val_predict(mango_search.best_estimator_, correct_predictions, correct_prediction_labels, cv = 5, n_jobs = -2, pre_dispatch = 2)\n",
    "mango_correct_cm = confusion_matrix(correct_prediction_labels, mango_correct_predictions)\n",
    "display(\"Mango Correct CM:\", pd.DataFrame(mango_correct_cm))\n",
    "pd.DataFrame(mango_correct_cm).to_csv('Mango Classifier on Correct Fruits Confusion Matrix.csv')\n",
    "# Strawberries\n",
    "strawberry_correct_predictions = cross_val_predict(strawberry_search.best_estimator_, correct_predictions, correct_prediction_labels, cv = 5, n_jobs = -2, pre_dispatch = 2)\n",
    "strawberry_correct_cm = confusion_matrix(correct_prediction_labels, strawberry_correct_predictions)\n",
    "display(\"Strawberry Correct CM:\", pd.DataFrame(strawberry_correct_cm))\n",
    "pd.DataFrame(strawberry_correct_cm).to_csv('Strawberry Classifier on Correct Fruits Confusion Matrix.csv')\n",
    "# Tomatoes\n",
    "tomato_correct_predictions = cross_val_predict(tomato_search.best_estimator_, correct_predictions, correct_prediction_labels, cv = 5, n_jobs = -2, pre_dispatch = 2)\n",
    "tomato_correct_cm = confusion_matrix(correct_prediction_labels, tomato_correct_predictions)\n",
    "display(\"Tomato Correct CM:\", pd.DataFrame(tomato_correct_cm))\n",
    "pd.DataFrame(tomato_correct_cm).to_csv('Tomato Classifier on Correct Fruits Confusion Matrix.csv')\n",
    "# Lemons\n",
    "lemon_correct_predictions = cross_val_predict(lemon_search.best_estimator_, correct_predictions, correct_prediction_labels, cv = 5, n_jobs = -2, pre_dispatch = 2)\n",
    "lemon_correct_cm = confusion_matrix(correct_prediction_labels, lemon_correct_predictions)\n",
    "display(\"Lemon Correct CM:\", pd.DataFrame(lemon_correct_cm))\n",
    "pd.DataFrame(lemon_correct_cm).to_csv('Lemon Classifier on Correct Fruits Confusion Matrix.csv')"
   ],
   "metadata": {
    "collapsed": false
   }
  },
  {
   "cell_type": "code",
   "execution_count": null,
   "outputs": [],
   "source": [
    "    # Implementing fresh/spoiled classifiers on all identified fruits\n"
   ],
   "metadata": {
    "collapsed": false
   }
  },
  {
   "cell_type": "markdown",
   "source": [
    "------------------------------------------------------------------------------------------------------------------------------------------------------------------------------\n",
    "Tools"
   ],
   "metadata": {
    "collapsed": false
   }
  },
  {
   "cell_type": "code",
   "execution_count": null,
   "outputs": [],
   "source": [
    "# # Tabulating data categories\n",
    "# spoiled_indexes = np.where(np.array(banana_labels) == 'spoiled')[0]\n",
    "# fresh_indexes = np.where(np.array(banana_labels) == 'fresh')[0]\n",
    "# print(bananas[0].shape)\n",
    "# print('Spoiled: ' + str(len(spoiled_indexes)))\n",
    "# print('Fresh: ' + str(len(spoiled_indexes)))"
   ],
   "metadata": {
    "collapsed": false
   }
  },
  {
   "cell_type": "code",
   "execution_count": null,
   "outputs": [],
   "source": [
    "# # Random image fetcher\n",
    "# rand_int = rand.randint(0, len(bananas))\n",
    "# plt.imshow(bananas[int(rand_int)])"
   ],
   "metadata": {
    "collapsed": false
   }
  },
  {
   "cell_type": "code",
   "execution_count": null,
   "outputs": [],
   "source": [
    "# #Multiple image fetcher\n",
    "# figure, axis = plt.subplots(3, 2)\n",
    "#\n",
    "# axis[0,0].title.set_text(\"Rotten\")\n",
    "# axis[0,0].imshow(bananas[spoiled_indexes[0]])\n",
    "# axis[1,0].imshow(bananas[spoiled_indexes[1]])\n",
    "# axis[2,0].imshow(bananas[spoiled_indexes[2]])\n",
    "# axis[0,1].title.set_text(\"Fresh\")\n",
    "# axis[0,1].imshow(bananas[fresh_indexes[0]])\n",
    "# axis[1,1].imshow(bananas[fresh_indexes[1]])\n",
    "# axis[2,1].imshow(bananas[fresh_indexes[2]])"
   ],
   "metadata": {
    "collapsed": false
   }
  }
 ],
 "metadata": {
  "kernelspec": {
   "display_name": "Python 3",
   "language": "python",
   "name": "python3"
  },
  "language_info": {
   "codemirror_mode": {
    "name": "ipython",
    "version": 2
   },
   "file_extension": ".py",
   "mimetype": "text/x-python",
   "name": "python",
   "nbconvert_exporter": "python",
   "pygments_lexer": "ipython2",
   "version": "2.7.6"
  }
 },
 "nbformat": 4,
 "nbformat_minor": 0
}
